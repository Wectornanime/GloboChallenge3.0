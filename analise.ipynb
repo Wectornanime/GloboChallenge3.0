{
 "cells": [
  {
   "cell_type": "code",
   "execution_count": 1,
   "metadata": {},
   "outputs": [],
   "source": [
    "import pandas as pd"
   ]
  },
  {
   "cell_type": "code",
   "execution_count": null,
   "metadata": {},
   "outputs": [],
   "source": [
    "# separa le o tsv\n",
    "df = pd.read_csv('FACTCKBR.tsv', sep='\\t', encoding='utf-8')"
   ]
  },
  {
   "cell_type": "code",
   "execution_count": 8,
   "metadata": {},
   "outputs": [],
   "source": [
    "# separa os dados\n",
    "df = df[['reviewBody', 'alternativeName']]  "
   ]
  },
  {
   "cell_type": "code",
   "execution_count": 9,
   "metadata": {},
   "outputs": [
    {
     "data": {
      "text/html": [
       "<div>\n",
       "<style scoped>\n",
       "    .dataframe tbody tr th:only-of-type {\n",
       "        vertical-align: middle;\n",
       "    }\n",
       "\n",
       "    .dataframe tbody tr th {\n",
       "        vertical-align: top;\n",
       "    }\n",
       "\n",
       "    .dataframe thead th {\n",
       "        text-align: right;\n",
       "    }\n",
       "</style>\n",
       "<table border=\"1\" class=\"dataframe\">\n",
       "  <thead>\n",
       "    <tr style=\"text-align: right;\">\n",
       "      <th></th>\n",
       "      <th>reviewBody</th>\n",
       "      <th>alternativeName</th>\n",
       "    </tr>\n",
       "  </thead>\n",
       "  <tbody>\n",
       "    <tr>\n",
       "      <th>0</th>\n",
       "      <td>Publicações que circulam nas redes sociais vej...</td>\n",
       "      <td>falso</td>\n",
       "    </tr>\n",
       "    <tr>\n",
       "      <th>1</th>\n",
       "      <td>Uma foto de um treinamento de defesa contra as...</td>\n",
       "      <td>falso</td>\n",
       "    </tr>\n",
       "    <tr>\n",
       "      <th>2</th>\n",
       "      <td>falsa a informação de que a deputada federal ...</td>\n",
       "      <td>falso</td>\n",
       "    </tr>\n",
       "    <tr>\n",
       "      <th>3</th>\n",
       "      <td>Modificada digitalmente para incluir o filtro ...</td>\n",
       "      <td>falso</td>\n",
       "    </tr>\n",
       "    <tr>\n",
       "      <th>4</th>\n",
       "      <td>Uma publicação que circula nas redes sociais a...</td>\n",
       "      <td>falso</td>\n",
       "    </tr>\n",
       "  </tbody>\n",
       "</table>\n",
       "</div>"
      ],
      "text/plain": [
       "                                          reviewBody alternativeName\n",
       "0  Publicações que circulam nas redes sociais vej...           falso\n",
       "1  Uma foto de um treinamento de defesa contra as...           falso\n",
       "2   falsa a informação de que a deputada federal ...           falso\n",
       "3  Modificada digitalmente para incluir o filtro ...           falso\n",
       "4  Uma publicação que circula nas redes sociais a...           falso"
      ]
     },
     "execution_count": 9,
     "metadata": {},
     "output_type": "execute_result"
    }
   ],
   "source": [
    "df.head()"
   ]
  },
  {
   "cell_type": "code",
   "execution_count": 13,
   "metadata": {},
   "outputs": [
    {
     "data": {
      "text/plain": [
       "reviewBody         0\n",
       "alternativeName    0\n",
       "dtype: int64"
      ]
     },
     "execution_count": 13,
     "metadata": {},
     "output_type": "execute_result"
    }
   ],
   "source": [
    "#conta os nulos\n",
    "df.isnull().sum()"
   ]
  },
  {
   "cell_type": "code",
   "execution_count": 12,
   "metadata": {},
   "outputs": [],
   "source": [
    "# remove os nulos\n",
    "df = df.dropna()"
   ]
  },
  {
   "cell_type": "code",
   "execution_count": null,
   "metadata": {},
   "outputs": [
    {
     "data": {
      "text/plain": [
       "alternativeName\n",
       "Falso                      615\n",
       "falso                      318\n",
       "Verdadeiro                 119\n",
       "Exagerado                   87\n",
       "Sem contexto                42\n",
       "distorcido                  28\n",
       "Distorcido                  25\n",
       "Impossível provar           20\n",
       "Discutível                  12\n",
       "Subestimado                  6\n",
       "Ainda é cedo para dizer      6\n",
       "insustentável                5\n",
       "exagerado                    4\n",
       "Verdadeiro, mas              4\n",
       "De olho                      3\n",
       "impreciso                    2\n",
       "verdadeiro                   1\n",
       "outros                       1\n",
       "Name: count, dtype: int64"
      ]
     },
     "execution_count": 14,
     "metadata": {},
     "output_type": "execute_result"
    }
   ],
   "source": [
    "#conta as tags\n",
    "tags = df['alternativeName'].value_counts()\n",
    "tags"
   ]
  },
  {
   "cell_type": "markdown",
   "metadata": {},
   "source": [
    "### Valores Empty"
   ]
  },
  {
   "cell_type": "code",
   "execution_count": 20,
   "metadata": {},
   "outputs": [
    {
     "data": {
      "text/plain": [
       "528"
      ]
     },
     "execution_count": 20,
     "metadata": {},
     "output_type": "execute_result"
    }
   ],
   "source": [
    "# conta os empty\n",
    "emptyValue = df['reviewBody'].tolist().count('Empty')\n",
    "emptyValue"
   ]
  },
  {
   "cell_type": "code",
   "execution_count": 19,
   "metadata": {},
   "outputs": [],
   "source": [
    "# Remover as linhas onde o valor é \"Empty\"\n",
    "df_filtrado = df[df['reviewBody'] != 'Empty']"
   ]
  },
  {
   "cell_type": "code",
   "execution_count": 21,
   "metadata": {},
   "outputs": [
    {
     "data": {
      "text/html": [
       "<div>\n",
       "<style scoped>\n",
       "    .dataframe tbody tr th:only-of-type {\n",
       "        vertical-align: middle;\n",
       "    }\n",
       "\n",
       "    .dataframe tbody tr th {\n",
       "        vertical-align: top;\n",
       "    }\n",
       "\n",
       "    .dataframe thead th {\n",
       "        text-align: right;\n",
       "    }\n",
       "</style>\n",
       "<table border=\"1\" class=\"dataframe\">\n",
       "  <thead>\n",
       "    <tr style=\"text-align: right;\">\n",
       "      <th></th>\n",
       "      <th>reviewBody</th>\n",
       "      <th>alternativeName</th>\n",
       "    </tr>\n",
       "  </thead>\n",
       "  <tbody>\n",
       "    <tr>\n",
       "      <th>0</th>\n",
       "      <td>Publicações que circulam nas redes sociais vej...</td>\n",
       "      <td>falso</td>\n",
       "    </tr>\n",
       "    <tr>\n",
       "      <th>1</th>\n",
       "      <td>Uma foto de um treinamento de defesa contra as...</td>\n",
       "      <td>falso</td>\n",
       "    </tr>\n",
       "    <tr>\n",
       "      <th>2</th>\n",
       "      <td>falsa a informação de que a deputada federal ...</td>\n",
       "      <td>falso</td>\n",
       "    </tr>\n",
       "    <tr>\n",
       "      <th>3</th>\n",
       "      <td>Modificada digitalmente para incluir o filtro ...</td>\n",
       "      <td>falso</td>\n",
       "    </tr>\n",
       "    <tr>\n",
       "      <th>4</th>\n",
       "      <td>Uma publicação que circula nas redes sociais a...</td>\n",
       "      <td>falso</td>\n",
       "    </tr>\n",
       "  </tbody>\n",
       "</table>\n",
       "</div>"
      ],
      "text/plain": [
       "                                          reviewBody alternativeName\n",
       "0  Publicações que circulam nas redes sociais vej...           falso\n",
       "1  Uma foto de um treinamento de defesa contra as...           falso\n",
       "2   falsa a informação de que a deputada federal ...           falso\n",
       "3  Modificada digitalmente para incluir o filtro ...           falso\n",
       "4  Uma publicação que circula nas redes sociais a...           falso"
      ]
     },
     "execution_count": 21,
     "metadata": {},
     "output_type": "execute_result"
    }
   ],
   "source": [
    "df_filtrado.head()"
   ]
  },
  {
   "cell_type": "code",
   "execution_count": 31,
   "metadata": {},
   "outputs": [
    {
     "data": {
      "text/plain": [
       "alternativeName\n",
       "Falso                464\n",
       "Verdadeiro            86\n",
       "Exagerado             75\n",
       "Distorcido            53\n",
       "Sem contexto          42\n",
       "Impossível provar     20\n",
       "Discutível            12\n",
       "Subestimado            6\n",
       "insustentável          5\n",
       "exagerado              4\n",
       "impreciso              2\n",
       "outros                 1\n",
       "Name: count, dtype: int64"
      ]
     },
     "execution_count": 31,
     "metadata": {},
     "output_type": "execute_result"
    }
   ],
   "source": [
    "#conta as tags\n",
    "tagsEmpty = df_filtrado['alternativeName'].value_counts()\n",
    "tagsEmpty"
   ]
  },
  {
   "cell_type": "code",
   "execution_count": 27,
   "metadata": {},
   "outputs": [
    {
     "data": {
      "text/plain": [
       "reviewBody         770\n",
       "alternativeName    770\n",
       "dtype: int64"
      ]
     },
     "execution_count": 27,
     "metadata": {},
     "output_type": "execute_result"
    }
   ],
   "source": [
    "# total de valores\n",
    "df_filtrado.count()"
   ]
  },
  {
   "cell_type": "markdown",
   "metadata": {},
   "source": [
    "### Normaliza os valores Falsos"
   ]
  },
  {
   "cell_type": "code",
   "execution_count": 30,
   "metadata": {},
   "outputs": [
    {
     "name": "stderr",
     "output_type": "stream",
     "text": [
      "C:\\Users\\Wectornanime\\AppData\\Local\\Temp\\ipykernel_113504\\807335681.py:6: SettingWithCopyWarning: \n",
      "A value is trying to be set on a copy of a slice from a DataFrame.\n",
      "Try using .loc[row_indexer,col_indexer] = value instead\n",
      "\n",
      "See the caveats in the documentation: https://pandas.pydata.org/pandas-docs/stable/user_guide/indexing.html#returning-a-view-versus-a-copy\n",
      "  df_filtrado['alternativeName'] = df_filtrado['alternativeName'].replace(filtro)\n"
     ]
    }
   ],
   "source": [
    "filtro = {\n",
    "    'falso': 'Falso',\n",
    "    'verdadeiro': 'Verdadeiro',\n",
    "    'distorcido': 'Distorcido',\n",
    "    }\n",
    "df_filtrado['alternativeName'] = df_filtrado['alternativeName'].replace(filtro)"
   ]
  },
  {
   "cell_type": "markdown",
   "metadata": {},
   "source": [
    "### Faz um df reduzido"
   ]
  },
  {
   "cell_type": "code",
   "execution_count": 33,
   "metadata": {},
   "outputs": [
    {
     "data": {
      "text/html": [
       "<div>\n",
       "<style scoped>\n",
       "    .dataframe tbody tr th:only-of-type {\n",
       "        vertical-align: middle;\n",
       "    }\n",
       "\n",
       "    .dataframe tbody tr th {\n",
       "        vertical-align: top;\n",
       "    }\n",
       "\n",
       "    .dataframe thead th {\n",
       "        text-align: right;\n",
       "    }\n",
       "</style>\n",
       "<table border=\"1\" class=\"dataframe\">\n",
       "  <thead>\n",
       "    <tr style=\"text-align: right;\">\n",
       "      <th></th>\n",
       "      <th>reviewBody</th>\n",
       "      <th>alternativeName</th>\n",
       "    </tr>\n",
       "  </thead>\n",
       "  <tbody>\n",
       "    <tr>\n",
       "      <th>0</th>\n",
       "      <td>Publicações que circulam nas redes sociais vej...</td>\n",
       "      <td>Falso</td>\n",
       "    </tr>\n",
       "    <tr>\n",
       "      <th>1</th>\n",
       "      <td>Uma foto de um treinamento de defesa contra as...</td>\n",
       "      <td>Falso</td>\n",
       "    </tr>\n",
       "    <tr>\n",
       "      <th>2</th>\n",
       "      <td>falsa a informação de que a deputada federal ...</td>\n",
       "      <td>Falso</td>\n",
       "    </tr>\n",
       "    <tr>\n",
       "      <th>3</th>\n",
       "      <td>Modificada digitalmente para incluir o filtro ...</td>\n",
       "      <td>Falso</td>\n",
       "    </tr>\n",
       "    <tr>\n",
       "      <th>4</th>\n",
       "      <td>Uma publicação que circula nas redes sociais a...</td>\n",
       "      <td>Falso</td>\n",
       "    </tr>\n",
       "    <tr>\n",
       "      <th>...</th>\n",
       "      <td>...</td>\n",
       "      <td>...</td>\n",
       "    </tr>\n",
       "    <tr>\n",
       "      <th>87</th>\n",
       "      <td>Uma foto antiga dos ex-presidentes argentinos ...</td>\n",
       "      <td>Falso</td>\n",
       "    </tr>\n",
       "    <tr>\n",
       "      <th>88</th>\n",
       "      <td>Não é de autoria da cantora Maria Bethânia a c...</td>\n",
       "      <td>Falso</td>\n",
       "    </tr>\n",
       "    <tr>\n",
       "      <th>89</th>\n",
       "      <td>falsa a notícia de que o Papa Francisco teria...</td>\n",
       "      <td>Falso</td>\n",
       "    </tr>\n",
       "    <tr>\n",
       "      <th>90</th>\n",
       "      <td>Não é verdade que um decreto assinado pelo pre...</td>\n",
       "      <td>Falso</td>\n",
       "    </tr>\n",
       "    <tr>\n",
       "      <th>91</th>\n",
       "      <td>Um meme que circula nas redes sociais traz inf...</td>\n",
       "      <td>Falso</td>\n",
       "    </tr>\n",
       "  </tbody>\n",
       "</table>\n",
       "<p>86 rows × 2 columns</p>\n",
       "</div>"
      ],
      "text/plain": [
       "                                           reviewBody alternativeName\n",
       "0   Publicações que circulam nas redes sociais vej...           Falso\n",
       "1   Uma foto de um treinamento de defesa contra as...           Falso\n",
       "2    falsa a informação de que a deputada federal ...           Falso\n",
       "3   Modificada digitalmente para incluir o filtro ...           Falso\n",
       "4   Uma publicação que circula nas redes sociais a...           Falso\n",
       "..                                                ...             ...\n",
       "87  Uma foto antiga dos ex-presidentes argentinos ...           Falso\n",
       "88  Não é de autoria da cantora Maria Bethânia a c...           Falso\n",
       "89   falsa a notícia de que o Papa Francisco teria...           Falso\n",
       "90  Não é verdade que um decreto assinado pelo pre...           Falso\n",
       "91  Um meme que circula nas redes sociais traz inf...           Falso\n",
       "\n",
       "[86 rows x 2 columns]"
      ]
     },
     "execution_count": 33,
     "metadata": {},
     "output_type": "execute_result"
    }
   ],
   "source": [
    "# separa os falsos\n",
    "df_falsos = df_filtrado[df_filtrado['alternativeName'] == 'Falso']\n",
    "df_falsos = df_falsos.head(86)\n",
    "df_falsos"
   ]
  },
  {
   "cell_type": "code",
   "execution_count": 32,
   "metadata": {},
   "outputs": [
    {
     "data": {
      "text/html": [
       "<div>\n",
       "<style scoped>\n",
       "    .dataframe tbody tr th:only-of-type {\n",
       "        vertical-align: middle;\n",
       "    }\n",
       "\n",
       "    .dataframe tbody tr th {\n",
       "        vertical-align: top;\n",
       "    }\n",
       "\n",
       "    .dataframe thead th {\n",
       "        text-align: right;\n",
       "    }\n",
       "</style>\n",
       "<table border=\"1\" class=\"dataframe\">\n",
       "  <thead>\n",
       "    <tr style=\"text-align: right;\">\n",
       "      <th></th>\n",
       "      <th>reviewBody</th>\n",
       "      <th>alternativeName</th>\n",
       "    </tr>\n",
       "  </thead>\n",
       "  <tbody>\n",
       "    <tr>\n",
       "      <th>360</th>\n",
       "      <td>Como informou nota do Vaticano publicada nesta...</td>\n",
       "      <td>Verdadeiro</td>\n",
       "    </tr>\n",
       "    <tr>\n",
       "      <th>374</th>\n",
       "      <td>Fernando Haddad PT, em entrevista no Roda Viva...</td>\n",
       "      <td>Verdadeiro</td>\n",
       "    </tr>\n",
       "    <tr>\n",
       "      <th>386</th>\n",
       "      <td>Corrente que circula no WhatsApp diz que Hadda...</td>\n",
       "      <td>Verdadeiro</td>\n",
       "    </tr>\n",
       "    <tr>\n",
       "      <th>387</th>\n",
       "      <td>Corrente que circula no WhatsApp diz que Hadda...</td>\n",
       "      <td>Verdadeiro</td>\n",
       "    </tr>\n",
       "    <tr>\n",
       "      <th>388</th>\n",
       "      <td>Corrente que circula no WhatsApp diz que Hadda...</td>\n",
       "      <td>Verdadeiro</td>\n",
       "    </tr>\n",
       "    <tr>\n",
       "      <th>...</th>\n",
       "      <td>...</td>\n",
       "      <td>...</td>\n",
       "    </tr>\n",
       "    <tr>\n",
       "      <th>754</th>\n",
       "      <td>O deputado federal Pompeo de Mattos PDT-RS afi...</td>\n",
       "      <td>Verdadeiro</td>\n",
       "    </tr>\n",
       "    <tr>\n",
       "      <th>759</th>\n",
       "      <td>O deputado federal Paulo Pimenta PT-RS afirmou...</td>\n",
       "      <td>Verdadeiro</td>\n",
       "    </tr>\n",
       "    <tr>\n",
       "      <th>768</th>\n",
       "      <td>Miguel Reale Júnior, jurista e coautor do pedi...</td>\n",
       "      <td>Verdadeiro</td>\n",
       "    </tr>\n",
       "    <tr>\n",
       "      <th>771</th>\n",
       "      <td>José Eduardo Martins Cardozo, ministro da Advo...</td>\n",
       "      <td>Verdadeiro</td>\n",
       "    </tr>\n",
       "    <tr>\n",
       "      <th>773</th>\n",
       "      <td>José Eduardo Martins Cardozo, ministro da Advo...</td>\n",
       "      <td>Verdadeiro</td>\n",
       "    </tr>\n",
       "  </tbody>\n",
       "</table>\n",
       "<p>86 rows × 2 columns</p>\n",
       "</div>"
      ],
      "text/plain": [
       "                                            reviewBody alternativeName\n",
       "360  Como informou nota do Vaticano publicada nesta...      Verdadeiro\n",
       "374  Fernando Haddad PT, em entrevista no Roda Viva...      Verdadeiro\n",
       "386  Corrente que circula no WhatsApp diz que Hadda...      Verdadeiro\n",
       "387  Corrente que circula no WhatsApp diz que Hadda...      Verdadeiro\n",
       "388  Corrente que circula no WhatsApp diz que Hadda...      Verdadeiro\n",
       "..                                                 ...             ...\n",
       "754  O deputado federal Pompeo de Mattos PDT-RS afi...      Verdadeiro\n",
       "759  O deputado federal Paulo Pimenta PT-RS afirmou...      Verdadeiro\n",
       "768  Miguel Reale Júnior, jurista e coautor do pedi...      Verdadeiro\n",
       "771  José Eduardo Martins Cardozo, ministro da Advo...      Verdadeiro\n",
       "773  José Eduardo Martins Cardozo, ministro da Advo...      Verdadeiro\n",
       "\n",
       "[86 rows x 2 columns]"
      ]
     },
     "execution_count": 32,
     "metadata": {},
     "output_type": "execute_result"
    }
   ],
   "source": [
    "# separa os verdadeiros\n",
    "df_verdadeiro = df_filtrado[df_filtrado['alternativeName'] == 'Verdadeiro']\n",
    "df_verdadeiro = df_verdadeiro.head(86)\n",
    "df_verdadeiro"
   ]
  },
  {
   "cell_type": "code",
   "execution_count": 45,
   "metadata": {},
   "outputs": [],
   "source": [
    "# junta os dataframe\n",
    "\n",
    "# separa os dados dataframe para teste e treino\n",
    "df0_treino = df_falsos.head(80)\n",
    "df0_teste = df_falsos.tail(df_falsos.shape[0] - 80)\n",
    "\n",
    "df1_treino = df_verdadeiro.head(80)\n",
    "df1_teste = df_verdadeiro.tail(df_verdadeiro.shape[0] - 80)\n",
    "\n",
    "# junta de fato os dados \n",
    "df_treino = pd.concat([df0_treino, df1_treino], ignore_index=True)\n",
    "df_teste = pd.concat([df0_teste, df1_teste], ignore_index=True)\n"
   ]
  },
  {
   "cell_type": "code",
   "execution_count": 46,
   "metadata": {},
   "outputs": [],
   "source": [
    "# salva os df\n",
    "\n",
    "df_teste.to_csv('df_teste.csv', index=False)\n",
    "df_treino.to_csv('df_treino.csv', index=False)"
   ]
  }
 ],
 "metadata": {
  "kernelspec": {
   "display_name": "Python 3",
   "language": "python",
   "name": "python3"
  },
  "language_info": {
   "codemirror_mode": {
    "name": "ipython",
    "version": 3
   },
   "file_extension": ".py",
   "mimetype": "text/x-python",
   "name": "python",
   "nbconvert_exporter": "python",
   "pygments_lexer": "ipython3",
   "version": "3.12.3"
  }
 },
 "nbformat": 4,
 "nbformat_minor": 2
}
